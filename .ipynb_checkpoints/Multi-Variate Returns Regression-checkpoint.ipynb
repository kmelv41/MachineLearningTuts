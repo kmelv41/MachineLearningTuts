{
 "cells": [
  {
   "cell_type": "markdown",
   "metadata": {},
   "source": [
    "# TODO\n",
    "\n",
    "- We are statically passing 4 indexes each time, this should be dynamic\n",
    "- It should dynamically handle NaN values"
   ]
  },
  {
   "cell_type": "markdown",
   "metadata": {},
   "source": [
    "## Load returns data from CSV"
   ]
  },
  {
   "cell_type": "code",
   "execution_count": 3,
   "metadata": {},
   "outputs": [
    {
     "data": {
      "text/html": [
       "<div>\n",
       "<style>\n",
       "    .dataframe thead tr:only-child th {\n",
       "        text-align: right;\n",
       "    }\n",
       "\n",
       "    .dataframe thead th {\n",
       "        text-align: left;\n",
       "    }\n",
       "\n",
       "    .dataframe tbody tr th {\n",
       "        vertical-align: top;\n",
       "    }\n",
       "</style>\n",
       "<table border=\"1\" class=\"dataframe\">\n",
       "  <thead>\n",
       "    <tr style=\"text-align: right;\">\n",
       "      <th></th>\n",
       "      <th>MSCI AC Asia Pacific GR CAD</th>\n",
       "      <th>MSCI EM GR CAD</th>\n",
       "      <th>MSCI Europe GR CAD</th>\n",
       "      <th>MSCI North America GR CAD</th>\n",
       "      <th>MSCI World Growth GR CAD</th>\n",
       "      <th>MSCI World Large GR USD</th>\n",
       "      <th>MSCI World Small Cap GR CAD</th>\n",
       "      <th>MSCI World Value GR CAD</th>\n",
       "      <th>TAF Generation</th>\n",
       "      <th>Beutel Goodman Global Equity</th>\n",
       "      <th>Burgundy Global Equity</th>\n",
       "      <th>Manulife Trimark Fund</th>\n",
       "    </tr>\n",
       "  </thead>\n",
       "  <tbody>\n",
       "    <tr>\n",
       "      <th>count</th>\n",
       "      <td>122.000000</td>\n",
       "      <td>122.000000</td>\n",
       "      <td>122.000000</td>\n",
       "      <td>122.000000</td>\n",
       "      <td>122.000000</td>\n",
       "      <td>122.000000</td>\n",
       "      <td>122.000000</td>\n",
       "      <td>122.000000</td>\n",
       "      <td>72.000000</td>\n",
       "      <td>122.000000</td>\n",
       "      <td>121.000000</td>\n",
       "      <td>122.000000</td>\n",
       "    </tr>\n",
       "    <tr>\n",
       "      <th>mean</th>\n",
       "      <td>0.692295</td>\n",
       "      <td>0.659754</td>\n",
       "      <td>0.562787</td>\n",
       "      <td>0.976393</td>\n",
       "      <td>0.901066</td>\n",
       "      <td>0.792377</td>\n",
       "      <td>0.995574</td>\n",
       "      <td>0.702623</td>\n",
       "      <td>1.795694</td>\n",
       "      <td>0.791475</td>\n",
       "      <td>1.014959</td>\n",
       "      <td>0.828689</td>\n",
       "    </tr>\n",
       "    <tr>\n",
       "      <th>std</th>\n",
       "      <td>3.677336</td>\n",
       "      <td>4.724160</td>\n",
       "      <td>4.371667</td>\n",
       "      <td>3.231191</td>\n",
       "      <td>3.414757</td>\n",
       "      <td>3.305916</td>\n",
       "      <td>3.917727</td>\n",
       "      <td>3.463996</td>\n",
       "      <td>2.978335</td>\n",
       "      <td>3.457786</td>\n",
       "      <td>3.055088</td>\n",
       "      <td>3.554607</td>\n",
       "    </tr>\n",
       "    <tr>\n",
       "      <th>min</th>\n",
       "      <td>-13.780000</td>\n",
       "      <td>-17.230000</td>\n",
       "      <td>-14.800000</td>\n",
       "      <td>-9.320000</td>\n",
       "      <td>-13.410000</td>\n",
       "      <td>-11.120000</td>\n",
       "      <td>-12.980000</td>\n",
       "      <td>-10.850000</td>\n",
       "      <td>-4.860000</td>\n",
       "      <td>-9.630000</td>\n",
       "      <td>-8.160000</td>\n",
       "      <td>-10.880000</td>\n",
       "    </tr>\n",
       "    <tr>\n",
       "      <th>25%</th>\n",
       "      <td>-0.975000</td>\n",
       "      <td>-2.012500</td>\n",
       "      <td>-1.747500</td>\n",
       "      <td>-0.585000</td>\n",
       "      <td>-0.862500</td>\n",
       "      <td>-0.820000</td>\n",
       "      <td>-1.112500</td>\n",
       "      <td>-1.182500</td>\n",
       "      <td>-0.002500</td>\n",
       "      <td>-1.010000</td>\n",
       "      <td>-0.420000</td>\n",
       "      <td>-0.512500</td>\n",
       "    </tr>\n",
       "    <tr>\n",
       "      <th>50%</th>\n",
       "      <td>0.670000</td>\n",
       "      <td>0.695000</td>\n",
       "      <td>0.820000</td>\n",
       "      <td>1.105000</td>\n",
       "      <td>1.290000</td>\n",
       "      <td>0.930000</td>\n",
       "      <td>1.550000</td>\n",
       "      <td>1.165000</td>\n",
       "      <td>1.665000</td>\n",
       "      <td>1.225000</td>\n",
       "      <td>1.010000</td>\n",
       "      <td>1.005000</td>\n",
       "    </tr>\n",
       "    <tr>\n",
       "      <th>75%</th>\n",
       "      <td>2.787500</td>\n",
       "      <td>3.560000</td>\n",
       "      <td>3.645000</td>\n",
       "      <td>3.300000</td>\n",
       "      <td>3.127500</td>\n",
       "      <td>3.052500</td>\n",
       "      <td>3.680000</td>\n",
       "      <td>2.855000</td>\n",
       "      <td>3.570000</td>\n",
       "      <td>3.180000</td>\n",
       "      <td>3.080000</td>\n",
       "      <td>3.147500</td>\n",
       "    </tr>\n",
       "    <tr>\n",
       "      <th>max</th>\n",
       "      <td>11.470000</td>\n",
       "      <td>13.420000</td>\n",
       "      <td>9.480000</td>\n",
       "      <td>7.720000</td>\n",
       "      <td>8.640000</td>\n",
       "      <td>7.330000</td>\n",
       "      <td>10.100000</td>\n",
       "      <td>7.710000</td>\n",
       "      <td>9.830000</td>\n",
       "      <td>8.790000</td>\n",
       "      <td>9.280000</td>\n",
       "      <td>8.350000</td>\n",
       "    </tr>\n",
       "  </tbody>\n",
       "</table>\n",
       "</div>"
      ],
      "text/plain": [
       "       MSCI AC Asia Pacific GR CAD  MSCI EM GR CAD  MSCI Europe GR CAD  \\\n",
       "count                   122.000000      122.000000          122.000000   \n",
       "mean                      0.692295        0.659754            0.562787   \n",
       "std                       3.677336        4.724160            4.371667   \n",
       "min                     -13.780000      -17.230000          -14.800000   \n",
       "25%                      -0.975000       -2.012500           -1.747500   \n",
       "50%                       0.670000        0.695000            0.820000   \n",
       "75%                       2.787500        3.560000            3.645000   \n",
       "max                      11.470000       13.420000            9.480000   \n",
       "\n",
       "       MSCI North America GR CAD  MSCI World Growth GR CAD  \\\n",
       "count                 122.000000                122.000000   \n",
       "mean                    0.976393                  0.901066   \n",
       "std                     3.231191                  3.414757   \n",
       "min                    -9.320000                -13.410000   \n",
       "25%                    -0.585000                 -0.862500   \n",
       "50%                     1.105000                  1.290000   \n",
       "75%                     3.300000                  3.127500   \n",
       "max                     7.720000                  8.640000   \n",
       "\n",
       "       MSCI World Large GR USD  MSCI World Small Cap GR CAD  \\\n",
       "count               122.000000                   122.000000   \n",
       "mean                  0.792377                     0.995574   \n",
       "std                   3.305916                     3.917727   \n",
       "min                 -11.120000                   -12.980000   \n",
       "25%                  -0.820000                    -1.112500   \n",
       "50%                   0.930000                     1.550000   \n",
       "75%                   3.052500                     3.680000   \n",
       "max                   7.330000                    10.100000   \n",
       "\n",
       "       MSCI World Value GR CAD  TAF Generation  Beutel Goodman Global Equity  \\\n",
       "count               122.000000       72.000000                    122.000000   \n",
       "mean                  0.702623        1.795694                      0.791475   \n",
       "std                   3.463996        2.978335                      3.457786   \n",
       "min                 -10.850000       -4.860000                     -9.630000   \n",
       "25%                  -1.182500       -0.002500                     -1.010000   \n",
       "50%                   1.165000        1.665000                      1.225000   \n",
       "75%                   2.855000        3.570000                      3.180000   \n",
       "max                   7.710000        9.830000                      8.790000   \n",
       "\n",
       "       Burgundy Global Equity  Manulife Trimark Fund  \n",
       "count              121.000000             122.000000  \n",
       "mean                 1.014959               0.828689  \n",
       "std                  3.055088               3.554607  \n",
       "min                 -8.160000             -10.880000  \n",
       "25%                 -0.420000              -0.512500  \n",
       "50%                  1.010000               1.005000  \n",
       "75%                  3.080000               3.147500  \n",
       "max                  9.280000               8.350000  "
      ]
     },
     "execution_count": 3,
     "metadata": {},
     "output_type": "execute_result"
    }
   ],
   "source": [
    "import numpy as np\n",
    "import pandas as pd\n",
    "import os\n",
    "\n",
    "%matplotlib inline\n",
    "import matplotlib\n",
    "import matplotlib.pyplot as plt\n",
    "from matplotlib import style\n",
    "style.use('fivethirtyeight')\n",
    "plt.rcParams['axes.labelsize'] = 14\n",
    "plt.rcParams['xtick.labelsize'] = 12\n",
    "plt.rcParams['ytick.labelsize'] = 12\n",
    "\n",
    "# Load in CSV data\n",
    "df = pd.read_csv('regreturns.csv')\n",
    "\n",
    "df.describe()\n"
   ]
  },
  {
   "cell_type": "markdown",
   "metadata": {},
   "source": [
    "## Separate data into arrays\n",
    "\n",
    "Data is separated into different arrays.  One-dimensional arrays for all Funds, multi-dimensional arrays for the indexes we are testing against."
   ]
  },
  {
   "cell_type": "code",
   "execution_count": 14,
   "metadata": {
    "collapsed": true
   },
   "outputs": [],
   "source": [
    "xGeo = df.iloc[:,1:5].values\n",
    "xStyle = df.iloc[:,5:9].values\n",
    "yGeneration = df.iloc[:,9].values\n",
    "yBG = df.iloc[:,10].values\n",
    "yBurgundy = df.iloc[:,11].values\n",
    "yTrimark = df.iloc[:,12].values\n",
    "xCapSize = df.iloc[:,6:8].values\n",
    "xStyleOnly = df[['MSCI World Growth GR CAD', 'MSCI World Value GR CAD']].values"
   ]
  },
  {
   "cell_type": "markdown",
   "metadata": {},
   "source": [
    "## Optimization Problem\n",
    "\n",
    "Minimize $$\\epsilon_t = R_t - (w_1*I_{1,t} + w_2*I_{2,t} + ... + w_n*I_{n,t})$$\n",
    "\n",
    "Subject to $$w_i \\ge 0$$ $$\\sum_{i=1}^n w_i = 1$$\n",
    "\n",
    "### Set up optimization functions"
   ]
  },
  {
   "cell_type": "code",
   "execution_count": 5,
   "metadata": {
    "collapsed": true
   },
   "outputs": [],
   "source": [
    "def objective(B,y,X):\n",
    "    u = np.subtract(y,np.dot(X,B))\n",
    "    return np.dot(u.T,u)\n",
    "\n",
    "def constraint(B):\n",
    "    return np.sum(B) - 1.0\n",
    "\n",
    "bounds = (0.0,1.0)"
   ]
  },
  {
   "cell_type": "code",
   "execution_count": 28,
   "metadata": {
    "collapsed": true
   },
   "outputs": [],
   "source": [
    "from scipy.optimize import minimize\n",
    "\n",
    "# Initialize Beta weights of zero\n",
    "B = np.zeros(4)\n",
    "\n",
    "# Set constraint properties\n",
    "const = {'type':'eq','fun':constraint}\n",
    "\n",
    "# Set bounds for each weight (4 in this case)\n",
    "bnds = (bounds,bounds,bounds,bounds)"
   ]
  },
  {
   "cell_type": "code",
   "execution_count": 29,
   "metadata": {},
   "outputs": [
    {
     "data": {
      "text/plain": [
       "     fun: 108.43551538677978\n",
       "     jac: array([ 54.10956097,  52.2811079 ,  52.28291988,  52.28112507])\n",
       " message: 'Optimization terminated successfully.'\n",
       "    nfev: 50\n",
       "     nit: 8\n",
       "    njev: 8\n",
       "  status: 0\n",
       " success: True\n",
       "       x: array([  1.42247325e-16,   4.69910512e-01,   1.37426503e-01,\n",
       "         3.92662985e-01])"
      ]
     },
     "execution_count": 29,
     "metadata": {},
     "output_type": "execute_result"
    }
   ],
   "source": [
    "# Set up scipy solution\n",
    "sol = minimize(objective,B,args=(yBG,xStyle),method='SLSQP',bounds=bnds,constraints=const)\n",
    "sol"
   ]
  },
  {
   "cell_type": "code",
   "execution_count": 30,
   "metadata": {},
   "outputs": [
    {
     "data": {
      "text/plain": [
       "Index(['MSCI World Growth GR CAD', 'MSCI World Large GR USD',\n",
       "       'MSCI World Small Cap GR CAD', 'MSCI World Value GR CAD'],\n",
       "      dtype='object')"
      ]
     },
     "execution_count": 30,
     "metadata": {},
     "output_type": "execute_result"
    }
   ],
   "source": [
    "df.iloc[:,5:9].columns"
   ]
  },
  {
   "cell_type": "markdown",
   "metadata": {},
   "source": [
    "### Run style and cap size separately and compare results"
   ]
  },
  {
   "cell_type": "code",
   "execution_count": 26,
   "metadata": {},
   "outputs": [
    {
     "name": "stdout",
     "output_type": "stream",
     "text": [
      "Index(['MSCI World Growth GR CAD', 'MSCI World Value GR CAD'], dtype='object')\n"
     ]
    },
    {
     "data": {
      "text/plain": [
       "     fun: 111.54384267188676\n",
       "     jac: array([ 35.06569862,  35.06569767])\n",
       " message: 'Optimization terminated successfully.'\n",
       "    nfev: 13\n",
       "     nit: 3\n",
       "    njev: 3\n",
       "  status: 0\n",
       " success: True\n",
       "       x: array([ 0.29971937,  0.70028063])"
      ]
     },
     "execution_count": 26,
     "metadata": {},
     "output_type": "execute_result"
    }
   ],
   "source": [
    "# Initialize Beta weights of zero\n",
    "B = np.zeros(2)\n",
    "\n",
    "# Set constraint properties\n",
    "const = {'type':'eq','fun':constraint}\n",
    "\n",
    "# Set bounds for each weight (4 in this case)\n",
    "bnds = (bounds,bounds)\n",
    "\n",
    "solStyle = minimize(objective,B,args=(yBG,xStyleOnly),method='SLSQP',bounds=bnds,constraints=const)\n",
    "\n",
    "print(df[['MSCI World Growth GR CAD', 'MSCI World Value GR CAD']].columns)\n",
    "solStyle"
   ]
  },
  {
   "cell_type": "code",
   "execution_count": 27,
   "metadata": {},
   "outputs": [
    {
     "name": "stdout",
     "output_type": "stream",
     "text": [
      "Index(['MSCI World Large GR USD', 'MSCI World Small Cap GR CAD'], dtype='object')\n"
     ]
    },
    {
     "data": {
      "text/plain": [
       "     fun: 119.9421641707696\n",
       "     jac: array([ 43.64182854,  43.64182758])\n",
       " message: 'Optimization terminated successfully.'\n",
       "    nfev: 16\n",
       "     nit: 4\n",
       "    njev: 4\n",
       "  status: 0\n",
       " success: True\n",
       "       x: array([ 0.83777647,  0.16222353])"
      ]
     },
     "execution_count": 27,
     "metadata": {},
     "output_type": "execute_result"
    }
   ],
   "source": [
    "solCap = minimize(objective,B,args=(yBG,xCapSize),method='SLSQP',bounds=bnds,constraints=const)\n",
    "\n",
    "print(df.iloc[:,6:8].columns)\n",
    "solCap"
   ]
  },
  {
   "cell_type": "markdown",
   "metadata": {},
   "source": [
    "## Results\n",
    "\n",
    "When running the regression with all 4 indexes, the ratios are: <br>\n",
    "Value:Growth >>> Infinite <br>\n",
    "Large:Small >>> 10:3 <br> <br>\n",
    "\n",
    "When running the cap size and style indexes in separate regressions, the ratios are: <br>\n",
    "Value:Growth >>> 7:3 <br>\n",
    "Large:Small >>> 5:1"
   ]
  }
 ],
 "metadata": {
  "kernelspec": {
   "display_name": "Python 3",
   "language": "python",
   "name": "python3"
  },
  "language_info": {
   "codemirror_mode": {
    "name": "ipython",
    "version": 3
   },
   "file_extension": ".py",
   "mimetype": "text/x-python",
   "name": "python",
   "nbconvert_exporter": "python",
   "pygments_lexer": "ipython3",
   "version": "3.6.1"
  }
 },
 "nbformat": 4,
 "nbformat_minor": 2
}
